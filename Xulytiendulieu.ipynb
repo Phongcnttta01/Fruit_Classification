{
  "nbformat": 4,
  "nbformat_minor": 0,
  "metadata": {
    "colab": {
      "provenance": [],
      "toc_visible": true,
      "authorship_tag": "ABX9TyOf6MqAcvGGbGOychW330iC",
      "include_colab_link": true
    },
    "kernelspec": {
      "name": "python3",
      "display_name": "Python 3"
    },
    "language_info": {
      "name": "python"
    }
  },
  "cells": [
    {
      "cell_type": "markdown",
      "metadata": {
        "id": "view-in-github",
        "colab_type": "text"
      },
      "source": [
        "<a href=\"https://colab.research.google.com/github/Phongcnttta01/Fruit_Classification/blob/main/Xulytiendulieu.ipynb\" target=\"_parent\"><img src=\"https://colab.research.google.com/assets/colab-badge.svg\" alt=\"Open In Colab\"/></a>"
      ]
    },
    {
      "cell_type": "markdown",
      "source": [
        "Các thư viện"
      ],
      "metadata": {
        "id": "oQNOAQBa6_Fr"
      }
    },
    {
      "cell_type": "code",
      "execution_count": 701,
      "metadata": {
        "id": "CR9GiGVQwhQl"
      },
      "outputs": [],
      "source": [
        "from collections import Counter\n",
        "import numpy as np\n",
        "import pandas as pd\n",
        "from sklearn import preprocessing\n",
        "from sklearn.model_selection import train_test_split\n",
        "from sklearn.metrics import confusion_matrix, accuracy_score"
      ]
    },
    {
      "cell_type": "markdown",
      "source": [
        "Tải dữ liệu lên"
      ],
      "metadata": {
        "id": "QBe49lLi6y-_"
      }
    },
    {
      "cell_type": "code",
      "source": [
        "data = pd.read_csv('data.csv')"
      ],
      "metadata": {
        "id": "n2T7aH1bwqx3"
      },
      "execution_count": 702,
      "outputs": []
    },
    {
      "cell_type": "markdown",
      "source": [],
      "metadata": {
        "id": "x_OPoFMIrrmV"
      }
    },
    {
      "cell_type": "markdown",
      "source": [
        "Kiểm tra dữ liệu"
      ],
      "metadata": {
        "id": "178YgcGH6wpp"
      }
    },
    {
      "cell_type": "code",
      "source": [
        "print(pd.isnull(data).sum())"
      ],
      "metadata": {
        "id": "TyA_6yFCdnnM",
        "colab": {
          "base_uri": "https://localhost:8080/"
        },
        "outputId": "383ea8f6-9bd1-402c-bd1d-5f7e3afe7a32"
      },
      "execution_count": 703,
      "outputs": [
        {
          "output_type": "stream",
          "name": "stdout",
          "text": [
            "fruit_name       0\n",
            "fruit_subtype    0\n",
            "mass             0\n",
            "width            0\n",
            "height           0\n",
            "color_score      0\n",
            "fruit_label      0\n",
            "dtype: int64\n"
          ]
        }
      ]
    },
    {
      "cell_type": "code",
      "source": [
        "print(data.info())"
      ],
      "metadata": {
        "id": "hJ8QbleGgT2t",
        "colab": {
          "base_uri": "https://localhost:8080/"
        },
        "outputId": "62bcd9d2-70f8-4dd0-8b19-91853b55eb36"
      },
      "execution_count": 704,
      "outputs": [
        {
          "output_type": "stream",
          "name": "stdout",
          "text": [
            "<class 'pandas.core.frame.DataFrame'>\n",
            "RangeIndex: 59 entries, 0 to 58\n",
            "Data columns (total 7 columns):\n",
            " #   Column         Non-Null Count  Dtype  \n",
            "---  ------         --------------  -----  \n",
            " 0   fruit_name     59 non-null     object \n",
            " 1   fruit_subtype  59 non-null     object \n",
            " 2   mass           59 non-null     int64  \n",
            " 3   width          59 non-null     float64\n",
            " 4   height         59 non-null     float64\n",
            " 5   color_score    59 non-null     float64\n",
            " 6   fruit_label    59 non-null     int64  \n",
            "dtypes: float64(3), int64(2), object(2)\n",
            "memory usage: 3.4+ KB\n",
            "None\n"
          ]
        }
      ]
    },
    {
      "cell_type": "markdown",
      "source": [
        "Cắt dữ liệu\n"
      ],
      "metadata": {
        "id": "g_ShMmN-ioPt"
      }
    },
    {
      "cell_type": "code",
      "source": [
        "X = data.iloc[:,2:6]\n",
        "Y = data.iloc[:,0:1]\n",
        "X = np.array(X)\n",
        "Y = np.array(Y)\n",
        "print(X)"
      ],
      "metadata": {
        "id": "qQcm0OpxyJhv",
        "colab": {
          "base_uri": "https://localhost:8080/"
        },
        "outputId": "c79fdd0c-8228-414e-a68e-028225fb3a4f"
      },
      "execution_count": 705,
      "outputs": [
        {
          "output_type": "stream",
          "name": "stdout",
          "text": [
            "[[192.     8.4    7.3    0.55]\n",
            " [180.     8.     6.8    0.59]\n",
            " [176.     7.4    7.2    0.6 ]\n",
            " [ 86.     6.2    4.7    0.8 ]\n",
            " [ 84.     6.     4.6    0.79]\n",
            " [ 80.     5.8    4.3    0.77]\n",
            " [ 80.     5.9    4.3    0.81]\n",
            " [ 76.     5.8    4.     0.81]\n",
            " [178.     7.1    7.8    0.92]\n",
            " [172.     7.4    7.     0.89]\n",
            " [166.     6.9    7.3    0.93]\n",
            " [172.     7.1    7.6    0.92]\n",
            " [154.     7.     7.1    0.88]\n",
            " [164.     7.3    7.7    0.7 ]\n",
            " [152.     7.6    7.3    0.69]\n",
            " [156.     7.7    7.1    0.69]\n",
            " [156.     7.6    7.5    0.67]\n",
            " [168.     7.5    7.6    0.73]\n",
            " [162.     7.5    7.1    0.83]\n",
            " [162.     7.4    7.2    0.85]\n",
            " [160.     7.5    7.5    0.86]\n",
            " [156.     7.4    7.4    0.84]\n",
            " [140.     7.3    7.1    0.87]\n",
            " [170.     7.6    7.9    0.88]\n",
            " [342.     9.     9.4    0.75]\n",
            " [356.     9.2    9.2    0.75]\n",
            " [362.     9.6    9.2    0.74]\n",
            " [204.     7.5    9.2    0.77]\n",
            " [140.     6.7    7.1    0.72]\n",
            " [160.     7.     7.4    0.81]\n",
            " [158.     7.1    7.5    0.79]\n",
            " [210.     7.8    8.     0.82]\n",
            " [164.     7.2    7.     0.8 ]\n",
            " [190.     7.5    8.1    0.74]\n",
            " [142.     7.6    7.8    0.75]\n",
            " [150.     7.1    7.9    0.75]\n",
            " [160.     7.1    7.6    0.76]\n",
            " [154.     7.3    7.3    0.79]\n",
            " [158.     7.2    7.8    0.77]\n",
            " [144.     6.8    7.4    0.75]\n",
            " [154.     7.1    7.5    0.78]\n",
            " [180.     7.6    8.2    0.79]\n",
            " [154.     7.2    7.2    0.82]\n",
            " [194.     7.2   10.3    0.7 ]\n",
            " [200.     7.3   10.5    0.72]\n",
            " [186.     7.2    9.2    0.72]\n",
            " [216.     7.3   10.2    0.71]\n",
            " [196.     7.3    9.7    0.72]\n",
            " [174.     7.3   10.1    0.72]\n",
            " [132.     5.8    8.7    0.73]\n",
            " [130.     6.     8.2    0.71]\n",
            " [116.     6.     7.5    0.72]\n",
            " [118.     5.9    8.     0.72]\n",
            " [120.     6.     8.4    0.74]\n",
            " [116.     6.1    8.5    0.71]\n",
            " [116.     6.3    7.7    0.72]\n",
            " [116.     5.9    8.1    0.73]\n",
            " [152.     6.5    8.5    0.72]\n",
            " [118.     6.1    8.1    0.7 ]]\n"
          ]
        }
      ]
    },
    {
      "cell_type": "markdown",
      "source": [
        "Chuyển đổi dữ liệu"
      ],
      "metadata": {
        "id": "_XabJqvf6kNR"
      }
    },
    {
      "cell_type": "code",
      "source": [
        "chuyendoi = preprocessing.LabelEncoder()\n",
        "chuyendoi.fit(Y)\n",
        "Y_chuyenDoi = chuyendoi.transform(Y)\n",
        "print(Y_chuyenDoi)\n"
      ],
      "metadata": {
        "id": "YguTRJ7z57gJ",
        "colab": {
          "base_uri": "https://localhost:8080/"
        },
        "outputId": "80c67387-22ca-43c5-9051-e0902ec6dbd0"
      },
      "execution_count": 706,
      "outputs": [
        {
          "output_type": "stream",
          "name": "stdout",
          "text": [
            "[0 0 0 2 2 2 2 2 0 0 0 0 0 0 0 0 0 0 0 0 0 0 0 0 3 3 3 3 3 3 3 3 3 3 3 3 3\n",
            " 3 3 3 3 3 3 1 1 1 1 1 1 1 1 1 1 1 1 1 1 1 1]\n"
          ]
        },
        {
          "output_type": "stream",
          "name": "stderr",
          "text": [
            "/usr/local/lib/python3.11/dist-packages/sklearn/preprocessing/_label.py:93: DataConversionWarning: A column-vector y was passed when a 1d array was expected. Please change the shape of y to (n_samples, ), for example using ravel().\n",
            "  y = column_or_1d(y, warn=True)\n",
            "/usr/local/lib/python3.11/dist-packages/sklearn/preprocessing/_label.py:129: DataConversionWarning: A column-vector y was passed when a 1d array was expected. Please change the shape of y to (n_samples, ), for example using ravel().\n",
            "  y = column_or_1d(y, dtype=self.classes_.dtype, warn=True)\n"
          ]
        }
      ]
    },
    {
      "cell_type": "markdown",
      "source": [
        "Chuẩn hóa dữ liệu (min,max) (dữ liệu to)"
      ],
      "metadata": {
        "id": "vtgDK-WB7hDJ"
      }
    },
    {
      "cell_type": "code",
      "source": [
        "Chuanhoa = preprocessing.MinMaxScaler(feature_range=(0,1))\n",
        "X_Chuanhoa = Chuanhoa.fit_transform(X)"
      ],
      "metadata": {
        "id": "UtJvEHv_7lgo"
      },
      "execution_count": 707,
      "outputs": []
    },
    {
      "cell_type": "code",
      "source": [
        "print(X_Chuanhoa)"
      ],
      "metadata": {
        "id": "LpF9EO3cgvzB",
        "colab": {
          "base_uri": "https://localhost:8080/"
        },
        "outputId": "2a3c7941-f2a2-4071-f769-296c0c25ab76"
      },
      "execution_count": 708,
      "outputs": [
        {
          "output_type": "stream",
          "name": "stdout",
          "text": [
            "[[0.40559441 0.68421053 0.50769231 0.        ]\n",
            " [0.36363636 0.57894737 0.43076923 0.10526316]\n",
            " [0.34965035 0.42105263 0.49230769 0.13157895]\n",
            " [0.03496503 0.10526316 0.10769231 0.65789474]\n",
            " [0.02797203 0.05263158 0.09230769 0.63157895]\n",
            " [0.01398601 0.         0.04615385 0.57894737]\n",
            " [0.01398601 0.02631579 0.04615385 0.68421053]\n",
            " [0.         0.         0.         0.68421053]\n",
            " [0.35664336 0.34210526 0.58461538 0.97368421]\n",
            " [0.33566434 0.42105263 0.46153846 0.89473684]\n",
            " [0.31468531 0.28947368 0.50769231 1.        ]\n",
            " [0.33566434 0.34210526 0.55384615 0.97368421]\n",
            " [0.27272727 0.31578947 0.47692308 0.86842105]\n",
            " [0.30769231 0.39473684 0.56923077 0.39473684]\n",
            " [0.26573427 0.47368421 0.50769231 0.36842105]\n",
            " [0.27972028 0.5        0.47692308 0.36842105]\n",
            " [0.27972028 0.47368421 0.53846154 0.31578947]\n",
            " [0.32167832 0.44736842 0.55384615 0.47368421]\n",
            " [0.3006993  0.44736842 0.47692308 0.73684211]\n",
            " [0.3006993  0.42105263 0.49230769 0.78947368]\n",
            " [0.29370629 0.44736842 0.53846154 0.81578947]\n",
            " [0.27972028 0.42105263 0.52307692 0.76315789]\n",
            " [0.22377622 0.39473684 0.47692308 0.84210526]\n",
            " [0.32867133 0.47368421 0.6        0.86842105]\n",
            " [0.93006993 0.84210526 0.83076923 0.52631579]\n",
            " [0.97902098 0.89473684 0.8        0.52631579]\n",
            " [1.         1.         0.8        0.5       ]\n",
            " [0.44755245 0.44736842 0.8        0.57894737]\n",
            " [0.22377622 0.23684211 0.47692308 0.44736842]\n",
            " [0.29370629 0.31578947 0.52307692 0.68421053]\n",
            " [0.28671329 0.34210526 0.53846154 0.63157895]\n",
            " [0.46853147 0.52631579 0.61538462 0.71052632]\n",
            " [0.30769231 0.36842105 0.46153846 0.65789474]\n",
            " [0.3986014  0.44736842 0.63076923 0.5       ]\n",
            " [0.23076923 0.47368421 0.58461538 0.52631579]\n",
            " [0.25874126 0.34210526 0.6        0.52631579]\n",
            " [0.29370629 0.34210526 0.55384615 0.55263158]\n",
            " [0.27272727 0.39473684 0.50769231 0.63157895]\n",
            " [0.28671329 0.36842105 0.58461538 0.57894737]\n",
            " [0.23776224 0.26315789 0.52307692 0.52631579]\n",
            " [0.27272727 0.34210526 0.53846154 0.60526316]\n",
            " [0.36363636 0.47368421 0.64615385 0.63157895]\n",
            " [0.27272727 0.36842105 0.49230769 0.71052632]\n",
            " [0.41258741 0.36842105 0.96923077 0.39473684]\n",
            " [0.43356643 0.39473684 1.         0.44736842]\n",
            " [0.38461538 0.36842105 0.8        0.44736842]\n",
            " [0.48951049 0.39473684 0.95384615 0.42105263]\n",
            " [0.41958042 0.39473684 0.87692308 0.44736842]\n",
            " [0.34265734 0.39473684 0.93846154 0.44736842]\n",
            " [0.1958042  0.         0.72307692 0.47368421]\n",
            " [0.18881119 0.05263158 0.64615385 0.42105263]\n",
            " [0.13986014 0.05263158 0.53846154 0.44736842]\n",
            " [0.14685315 0.02631579 0.61538462 0.44736842]\n",
            " [0.15384615 0.05263158 0.67692308 0.5       ]\n",
            " [0.13986014 0.07894737 0.69230769 0.42105263]\n",
            " [0.13986014 0.13157895 0.56923077 0.44736842]\n",
            " [0.13986014 0.02631579 0.63076923 0.47368421]\n",
            " [0.26573427 0.18421053 0.69230769 0.44736842]\n",
            " [0.14685315 0.07894737 0.63076923 0.39473684]]\n"
          ]
        }
      ]
    },
    {
      "cell_type": "markdown",
      "source": [
        "Chuẩn hóa Standard(số âm)"
      ],
      "metadata": {
        "id": "fc2o0h4W8Oe6"
      }
    },
    {
      "cell_type": "markdown",
      "source": [
        "Chia dữ liệu"
      ],
      "metadata": {
        "id": "NZuc8cgH9HJb"
      }
    },
    {
      "cell_type": "code",
      "source": [
        "X_train,  X_test, y_train, y_test = train_test_split(X_Chuanhoa, Y_chuyenDoi, test_size=0.2, random_state =60)"
      ],
      "metadata": {
        "id": "ZTx8wHDN-p5J"
      },
      "execution_count": 709,
      "outputs": []
    },
    {
      "cell_type": "code",
      "source": [
        "def fit(X, y):\n",
        "  classes = np.unique(y)\n",
        "  mean = {}\n",
        "  variance = {}\n",
        "  prior = {}\n",
        "\n",
        "  for c in classes:\n",
        "    X_c = X[y==c]\n",
        "    mean[c] = X_c.mean(axis=0)\n",
        "    variance[c] = X_c.var(axis=0)\n",
        "    prior[c] = X_c.shape[0]/X.shape[0]\n",
        "\n",
        "  return mean, variance, prior"
      ],
      "metadata": {
        "id": "sjYCZHsNW3BX"
      },
      "execution_count": 710,
      "outputs": []
    },
    {
      "cell_type": "code",
      "source": [
        "def gaussian_probability(x, mean, variance):\n",
        "  return (1/np.sqrt(2*np.pi*variance))*np.exp(-(x-mean)**2/(2*variance))"
      ],
      "metadata": {
        "id": "mjKCRryyW3zm"
      },
      "execution_count": 711,
      "outputs": []
    },
    {
      "cell_type": "code",
      "source": [
        "def predict(X, mean, variance, prior):\n",
        "    predictions = []\n",
        "    classes = list(mean.keys())\n",
        "\n",
        "    for x in X:\n",
        "        posteriors = []\n",
        "        for c in classes:\n",
        "            prior_log = np.log(prior[c])\n",
        "            class_likelihood = np.sum(np.log(gaussian_probability(x, mean[c], variance[c])))\n",
        "            posterior = prior_log + class_likelihood\n",
        "            posteriors.append(posterior)\n",
        "\n",
        "        predictions.append(classes[np.argmax(posteriors)])\n",
        "\n",
        "    return np.array(predictions)"
      ],
      "metadata": {
        "id": "m3iOmNXlW6sH"
      },
      "execution_count": 712,
      "outputs": []
    },
    {
      "cell_type": "code",
      "source": [
        "mean, variance, prior = fit(X_train, y_train)"
      ],
      "metadata": {
        "id": "M2BKPnKuw1Ur"
      },
      "execution_count": 713,
      "outputs": []
    },
    {
      "cell_type": "code",
      "source": [
        "predictions = predict(X_test, mean, variance, prior)\n",
        "print()"
      ],
      "metadata": {
        "id": "QVXvgxA5mP__",
        "colab": {
          "base_uri": "https://localhost:8080/"
        },
        "outputId": "f792047e-175f-4f2c-a6a0-70279958150a"
      },
      "execution_count": 714,
      "outputs": [
        {
          "output_type": "stream",
          "name": "stdout",
          "text": [
            "\n"
          ]
        }
      ]
    },
    {
      "cell_type": "code",
      "source": [
        "cm = confusion_matrix(y_test, predictions)\n",
        "print(cm)\n",
        "accuracy_score(y_test, predictions)\n",
        "\n"
      ],
      "metadata": {
        "id": "p4h0GKs-oBNk",
        "colab": {
          "base_uri": "https://localhost:8080/"
        },
        "outputId": "2aaa031d-7393-4fd7-af6e-da8da78b5709"
      },
      "execution_count": 715,
      "outputs": [
        {
          "output_type": "stream",
          "name": "stdout",
          "text": [
            "[[1 0 0 0]\n",
            " [0 6 0 1]\n",
            " [0 0 1 0]\n",
            " [2 1 0 0]]\n"
          ]
        },
        {
          "output_type": "execute_result",
          "data": {
            "text/plain": [
              "0.6666666666666666"
            ]
          },
          "metadata": {},
          "execution_count": 715
        }
      ]
    },
    {
      "cell_type": "code",
      "source": [
        "def euclidean_distance(x1, x2):\n",
        "    return np.sqrt(np.sum((x1 - x2) ** 2))"
      ],
      "metadata": {
        "id": "xrgfI413nKwW"
      },
      "execution_count": 716,
      "outputs": []
    },
    {
      "cell_type": "code",
      "source": [
        "def predict(X_train, y_train, X_test, k=3):\n",
        "    predictions = []\n",
        "\n",
        "    for x_test in X_test:\n",
        "        distances = []\n",
        "\n",
        "        for i, x_train in enumerate(X_train):\n",
        "            distance = euclidean_distance(x_test, x_train)\n",
        "            distances.append((distance, y_train[i]))\n",
        "\n",
        "        distances.sort(key=lambda x: x[0])\n",
        "\n",
        "        k_nearest_labels = [label for _, label in distances[:k]]\n",
        "\n",
        "        most_common = Counter(k_nearest_labels).most_common(1)[0][0]\n",
        "        predictions.append(most_common)\n",
        "\n",
        "    return np.array(predictions)"
      ],
      "metadata": {
        "id": "W9dwId7AnKtf"
      },
      "execution_count": 717,
      "outputs": []
    },
    {
      "cell_type": "code",
      "source": [
        "predictions = predict(X_train, y_train, X_test, 3)\n",
        "\n"
      ],
      "metadata": {
        "id": "YLAnY5PinKqm"
      },
      "execution_count": 718,
      "outputs": []
    },
    {
      "cell_type": "code",
      "source": [
        "cm = confusion_matrix(y_test, predictions)\n",
        "print(cm)\n",
        "accuracy_score(y_test, predictions)"
      ],
      "metadata": {
        "id": "R3s9h-Y6oxsT",
        "colab": {
          "base_uri": "https://localhost:8080/"
        },
        "outputId": "a43e9454-0f0a-4a84-dad6-b31cda68731b"
      },
      "execution_count": 719,
      "outputs": [
        {
          "output_type": "stream",
          "name": "stdout",
          "text": [
            "[[1 0 0 0]\n",
            " [0 7 0 0]\n",
            " [0 0 1 0]\n",
            " [0 0 0 3]]\n"
          ]
        },
        {
          "output_type": "execute_result",
          "data": {
            "text/plain": [
              "1.0"
            ]
          },
          "metadata": {},
          "execution_count": 719
        }
      ]
    },
    {
      "cell_type": "markdown",
      "source": [
        "# Mục mới"
      ],
      "metadata": {
        "id": "uzerYZE69uql"
      }
    }
  ]
}